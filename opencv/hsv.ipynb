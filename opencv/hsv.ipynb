{
 "cells": [
  {
   "cell_type": "code",
   "execution_count": 7,
   "metadata": {},
   "outputs": [],
   "source": [
    "import cv2 \n",
    "import numpy as np"
   ]
  },
  {
   "cell_type": "markdown",
   "metadata": {},
   "source": [
    "HSV - HUE,SATURATION,VALUE<br>\n",
    "THESE ARE THE COMPONENTS WHICH ARE USED TO DETECT THE COLOR COMPONENTS OF AN IMAGE AS NORMAL B-G-R FORMAT IS UNABLE TO EXTRACT THE COLOR INFORMATION FROM THE IMAGES<br>\n",
    "<t>HUE --> CORRESPONDS TO THE BASE COLOR COMPONENTS i.e. BY SELECTING THE RANGE OF HUE, ANY COLOR CAN BE SELECTED (RANGE : 0 - 360)<br>\n",
    "<t>SATURATION --> THE AMOUNT OF COLOR i.e. THE DEPTH OF THE COLOR PIGMENT (RANGE: 0 - 100%)<br>\n",
    "<t>VALUE --> BRIGHTNESS OF THE COLOR (RANGE: 0 - 100%)<br>"
   ]
  },
  {
   "cell_type": "code",
   "execution_count": 8,
   "metadata": {},
   "outputs": [],
   "source": [
    "# Arbitrary function\n",
    "def nothing(x):\n",
    "    pass \n",
    "# lower values\n",
    "cv2.namedWindow('Trackbar')\n",
    "cv2.createTrackbar('Hue (low)','Trackbar',0,255,nothing)\n",
    "cv2.createTrackbar('Saturation (low)','Trackbar',0,255,nothing)\n",
    "cv2.createTrackbar('Value (low)','Trackbar',0,255,nothing)\n",
    "# upper values\n",
    "cv2.createTrackbar('Hue (high)','Trackbar',255,255,nothing)\n",
    "cv2.createTrackbar('Saturation (high)','Trackbar',255,255,nothing)\n",
    "cv2.createTrackbar('Value (high)','Trackbar',255,255,nothing)"
   ]
  },
  {
   "cell_type": "code",
   "execution_count": 9,
   "metadata": {},
   "outputs": [],
   "source": [
    "while True:\n",
    "    # Read the image\n",
    "    frame = cv2.imread(r\"E:\\Abhinav\\Mystic\\Machine Learning\\OpenCV\\images\\colors.jpg\")\n",
    "\n",
    "    if frame is None:\n",
    "        print(\"Error: Could not read the image. Check the file path.\")\n",
    "        break  # Exit loop if image is not found\n",
    "\n",
    "    # Convert to HSV color space\n",
    "    hsv = cv2.cvtColor(frame, cv2.COLOR_BGR2HSV)\n",
    "\n",
    "    # get HSV values from trackbars\n",
    "    low_hue = cv2.getTrackbarPos('Hue (low)', 'Trackbar')\n",
    "    low_saturation = cv2.getTrackbarPos('Saturation (low)', 'Trackbar')\n",
    "    low_value = cv2.getTrackbarPos('Value (low)', 'Trackbar')\n",
    "\n",
    "    high_hue = cv2.getTrackbarPos('Hue (high)', 'Trackbar')\n",
    "    high_saturation = cv2.getTrackbarPos('Saturation (high)', 'Trackbar')\n",
    "    high_value = cv2.getTrackbarPos('Value (high)','Trackbar')\n",
    "\n",
    "    # Define blue color range in HSV\n",
    "    lower_blue = np.array([low_hue, low_saturation, low_value])\n",
    "    upper_blue = np.array([high_hue, high_saturation, high_value])\n",
    "\n",
    "    # Create mask\n",
    "    mask = cv2.inRange(hsv, lower_blue, upper_blue)\n",
    "\n",
    "    # Apply bitwise AND to extract blue areas\n",
    "    res = cv2.bitwise_and(frame, frame, mask=mask)\n",
    "\n",
    "    # Display images\n",
    "    cv2.imshow('Original Frame', frame)\n",
    "    cv2.imshow('Mask', mask)\n",
    "    cv2.imshow('Filtered Result', res)\n",
    "\n",
    "    # Exit loop when ESC key is pressed\n",
    "    key = cv2.waitKey(1) & 0xFF\n",
    "    if key == 27:  # ASCII code for ESC key\n",
    "        break\n",
    "\n",
    "cv2.destroyAllWindows()\n"
   ]
  }
 ],
 "metadata": {
  "kernelspec": {
   "display_name": "Python 3",
   "language": "python",
   "name": "python3"
  },
  "language_info": {
   "codemirror_mode": {
    "name": "ipython",
    "version": 3
   },
   "file_extension": ".py",
   "mimetype": "text/x-python",
   "name": "python",
   "nbconvert_exporter": "python",
   "pygments_lexer": "ipython3",
   "version": "3.12.9"
  }
 },
 "nbformat": 4,
 "nbformat_minor": 2
}

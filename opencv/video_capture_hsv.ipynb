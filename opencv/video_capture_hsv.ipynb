{
 "cells": [
  {
   "cell_type": "code",
   "execution_count": 2,
   "metadata": {},
   "outputs": [],
   "source": [
    "import numpy as np \n",
    "import cv2 "
   ]
  },
  {
   "cell_type": "code",
   "execution_count": 3,
   "metadata": {},
   "outputs": [],
   "source": [
    "def nothing(x):\n",
    "    pass \n",
    "\n",
    "cv2.namedWindow('capture')\n",
    "cap = cv2.VideoCapture(0)\n",
    "# lower bounds\n",
    "cv2.createTrackbar('L_hue', 'capture',0,255,nothing)\n",
    "cv2.createTrackbar('L_sat', 'capture',0,255,nothing)\n",
    "cv2.createTrackbar('L_val', 'capture',0,255,nothing)\n",
    "# upper bounds\n",
    "cv2.createTrackbar('H_hue', 'capture',255,255,nothing)\n",
    "cv2.createTrackbar('H_sat', 'capture',255,255,nothing)\n",
    "cv2.createTrackbar('H_val', 'capture',255,255,nothing)\n"
   ]
  },
  {
   "cell_type": "code",
   "execution_count": 4,
   "metadata": {},
   "outputs": [],
   "source": [
    "while True:\n",
    "    ret,frame = cap.read()\n",
    "    if not ret:\n",
    "        break\n",
    "    # convert to HSV\n",
    "    hsv = cv2.cvtColor(frame,cv2.COLOR_BGR2HSV)\n",
    "\n",
    "    # get the values from the trackbars\n",
    "    # lowerbounds\n",
    "    l_hue = cv2.getTrackbarPos('L_hue','capture')\n",
    "    l_sat = cv2.getTrackbarPos('L_sat','capture')\n",
    "    l_val = cv2.getTrackbarPos('L_val','capture')\n",
    "    # upperbounds\n",
    "    h_hue = cv2.getTrackbarPos('H_hue','capture')\n",
    "    h_sat = cv2.getTrackbarPos('H_sat','capture')\n",
    "    h_val = cv2.getTrackbarPos('H_val','capture')\n",
    "\n",
    "    # create the lower and upper bounds\n",
    "    lower_bound = np.array([l_hue,l_sat,l_val])\n",
    "    upper_bound = np.array([h_hue,h_sat,h_val])\n",
    "    # create the mask\n",
    "\n",
    "    mask = cv2.inRange(hsv,lower_bound,upper_bound)\n",
    "\n",
    "    # apply the mask to the original image\n",
    "    result = cv2.bitwise_and(frame,frame,mask=mask)\n",
    "\n",
    "    # show the original image, mask and result\n",
    "    cv2.imshow('capture',frame)\n",
    "    cv2.imshow('mask',mask)\n",
    "    cv2.imshow('result',result)\n",
    "\n",
    "    # exit if 'q' is pressed\n",
    "    if cv2.waitKey(1) & 0xFF == ord('q'):\n",
    "        break\n",
    "# releasing the capture object and closing all windows\n",
    "cap.release()\n",
    "cv2.destroyAllWindows()"
   ]
  }
 ],
 "metadata": {
  "kernelspec": {
   "display_name": "Python 3",
   "language": "python",
   "name": "python3"
  },
  "language_info": {
   "codemirror_mode": {
    "name": "ipython",
    "version": 3
   },
   "file_extension": ".py",
   "mimetype": "text/x-python",
   "name": "python",
   "nbconvert_exporter": "python",
   "pygments_lexer": "ipython3",
   "version": "3.12.9"
  }
 },
 "nbformat": 4,
 "nbformat_minor": 2
}
